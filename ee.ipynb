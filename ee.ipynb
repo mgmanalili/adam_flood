{
 "cells": [
  {
   "cell_type": "code",
   "execution_count": 58,
   "metadata": {},
   "outputs": [],
   "source": [
    "import ee\n",
    "ee.Initialize()\n",
    "import matplotlib.pyplot as plt\n",
    "from IPython.display import Image\n",
    "from datetime import datetime, timedelta\n",
    "import folium"
   ]
  },
  {
   "cell_type": "markdown",
   "metadata": {},
   "source": [
    "LOAD GEE VECTOR ASSETS"
   ]
  },
  {
   "cell_type": "code",
   "execution_count": 99,
   "metadata": {
    "scrolled": true
   },
   "outputs": [
    {
     "name": "stdout",
     "output_type": "stream",
     "text": [
      "ee.FeatureCollection({\n",
      "  \"type\": \"Invocation\", \n",
      "  \"arguments\": {\n",
      "    \"filter\": {\n",
      "      \"type\": \"Invocation\", \n",
      "      \"arguments\": {\n",
      "        \"leftField\": \"iso3\", \n",
      "        \"rightValue\": \"PHL\"\n",
      "      }, \n",
      "      \"functionName\": \"Filter.equals\"\n",
      "    }, \n",
      "    \"collection\": {\n",
      "      \"type\": \"Invocation\", \n",
      "      \"arguments\": {\n",
      "        \"tableId\": \"users/wfphqgis/wfp_bnd_inform2019\"\n",
      "      }, \n",
      "      \"functionName\": \"Collection.loadTable\"\n",
      "    }\n",
      "  }, \n",
      "  \"functionName\": \"Collection.filter\"\n",
      "})\n"
     ]
    }
   ],
   "source": [
    "bnd = ee.FeatureCollection(\"users/wfphqgis/wfp_bnd_inform2019\")\n",
    "global_dams = ee.FeatureCollection(\"users/wfphqgis/GRanD_dams_v1_1\")\n",
    "dfo_flood = ee.FeatureCollection(\"users/wfphqgis/DFO_HistoricalFloodEvents\")\n",
    "country = ee.FeatureCollection(\"users/wfphqgis/wld_wfp_acrcountries_wfp_2018\")\n",
    "aoi = ee.FeatureCollection(bnd).filter(ee.Filter.eq('iso3', 'PHL'))\n",
    "print(aoi)"
   ]
  },
  {
   "cell_type": "markdown",
   "metadata": {},
   "source": [
    "SET DATA PARAMETERS"
   ]
  },
  {
   "cell_type": "code",
   "execution_count": 100,
   "metadata": {},
   "outputs": [
    {
     "name": "stdout",
     "output_type": "stream",
     "text": [
      "2018-12-24 12:41:39.578335\n",
      "2018-12-23 12:41:39.578335\n",
      "2018-12-21 12:41:39.578335\n",
      "2018-12-17 12:41:39.578335\n"
     ]
    }
   ],
   "source": [
    "day0 = datetime.today()\n",
    "hrs24 = day0 - timedelta(days=1)\n",
    "hrs48 = day0 - timedelta(days=2)\n",
    "hrs72 = day0 - timedelta(days=3)\n",
    "day7 = day0 - timedelta(days=7)\n",
    "print day0\n",
    "print hrs24\n",
    "print hrs72\n",
    "print day7"
   ]
  },
  {
   "cell_type": "markdown",
   "metadata": {},
   "source": [
    "LOAD GSMaP RASTER DATA (OPERATIONAL)"
   ]
  },
  {
   "cell_type": "code",
   "execution_count": 172,
   "metadata": {
    "scrolled": true
   },
   "outputs": [],
   "source": [
    "dataset = ee.ImageCollection('JAXA/GPM_L3/GSMaP/v6/operational').filter(ee.Filter.date(hrs24, day0))\n",
    "precipitation = dataset.select('hourlyPrecipRateGC')\n",
    "\n",
    "gpm_precip_24h = precipitation.filter(ee.Filter.date(hrs24, day0))\n",
    "gpm_precip_48h = precipitation.filter(ee.Filter.date(hrs48, day0))\n",
    "gpm_precip_72h = precipitation.filter(ee.Filter.date(hrs72, day0))\n",
    "gpm_precip_day7 = precipitation.filter(ee.Filter.date(day7, day0))\n",
    "\n",
    "gpm_stat_24h = gpm_precip_24h.sum().clip(aoi)\n",
    "gpm_stat_48h = gpm_precip_48h.sum().clip(aoi)\n",
    "gpm_stat_72h = gpm_precip_72h.sum().clip(aoi)\n",
    "gpm_stat_day7 = gpm_precip_day7.sum().clip(aoi)\n",
    "\n",
    "#url = gpm_stat_day7.getThumbUrl()\n",
    "#Image(url=url)"
   ]
  },
  {
   "cell_type": "markdown",
   "metadata": {},
   "source": [
    "CHARTING (REDUCER) SERVER IS DOWN! Try Agrain Later"
   ]
  },
  {
   "cell_type": "code",
   "execution_count": 174,
   "metadata": {},
   "outputs": [
    {
     "name": "stdout",
     "output_type": "stream",
     "text": [
      "[2094.919703803099]\n"
     ]
    }
   ],
   "source": [
    "def setProperty(image):\n",
    "    dict = image.reduceRegion(ee.Reducer.sum(), aoi)\n",
    "    return image.set(dict)\n",
    "\n",
    "withSum = gpm_precip_72h.map(setProperty)\n",
    "\n",
    "print withSum.aggregate_array('hourlyPrecipRateGC').getInfo()"
   ]
  },
  {
   "cell_type": "code",
   "execution_count": 119,
   "metadata": {},
   "outputs": [
    {
     "data": {
      "text/html": [
       "<img src=\"https://earthengine.googleapis.com/api/thumb?thumbid=ca167896c41237b3e89043610e27f27e&token=a712612290a8a897a19f4a4661c0f472\"/>"
      ],
      "text/plain": [
       "<IPython.core.display.Image object>"
      ]
     },
     "execution_count": 119,
     "metadata": {},
     "output_type": "execute_result"
    }
   ],
   "source": [
    "#image = ee.Image('USGS/SRTMGL1_003')\n",
    "dataset = ee.Image('JRC/GSW1_0/GlobalSurfaceWater')\n",
    "url = image.getThumbUrl()\n",
    "Image(url=url)"
   ]
  },
  {
   "cell_type": "code",
   "execution_count": 24,
   "metadata": {},
   "outputs": [
    {
     "data": {
      "text/html": [
       "<img src=\"https://earthengine.googleapis.com/api/thumb?thumbid=e1274c5b8c424195c06bfb0c190a44ce&token=32bd5a7dd82a8ba0ccee7ae915783d5f\"/>"
      ],
      "text/plain": [
       "<IPython.core.display.Image object>"
      ]
     },
     "execution_count": 24,
     "metadata": {},
     "output_type": "execute_result"
    }
   ],
   "source": [
    "s1_aoi = ee.Geometry.Point(45.7521 , 32.6024).buffer(150000)\n",
    "collections =  ee.ImageCollection('COPERNICUS/S1_GRD').filterBounds(s1_aoi).filter(ee.Filter.listContains('transmitterReceiverPolarisation', 'VV')).select('VV')\n",
    "\n",
    "collection = collections.filter(ee.Filter.eq('orbitProperties_pass', 'DESCENDING'))\n",
    "\n",
    "pre = collection.filterDate('2018-11-10', '2018-11-19').mosaic().clip(s1_aoi)\n",
    "post = collection.filterDate('2018-11-22', '2018-11-28').mosaic().clip(s1_aoi)\n",
    "\n",
    "SMOOTHING_RADIUS = 1000\n",
    "DIFF_UPPER_THRESHOLD = -1.5\n",
    "\n",
    "diff_smoothed = post_c.focal_median(SMOOTHING_RADIUS, 'circle', 'meters').subtract(pre_c.focal_median(SMOOTHING_RADIUS, 'circle', 'meters'));\n",
    "\n",
    "srtm = ee.Image('USGS/SRTMGL1_003').clip(s1_aoi)\n",
    "slope = ee.Terrain.slope(srtm)\n",
    "slope_f = slope.lte(8)\n",
    "aspect = ee.Terrain.aspect(srtm)\n",
    "diff_thresholded = diff_smoothed.lt(DIFF_UPPER_THRESHOLD)\n",
    "inundated = diff_thresholded.multiply(slope_f)\n",
    "\n",
    "pre_c = pre.clip(s1_aoi)\n",
    "post_c = post.clip(s1_aoi)\n",
    "url = inundated.getThumbUrl()\n",
    "Image(url=url)"
   ]
  },
  {
   "cell_type": "code",
   "execution_count": 26,
   "metadata": {},
   "outputs": [
    {
     "data": {
      "text/html": [
       "<img src=\"https://earthengine.googleapis.com/api/thumb?thumbid=a67e59f104d783e77c86ff51d9b30d08&token=13af02b8e76601155558be3fca0f6b39\"/>"
      ],
      "text/plain": [
       "<IPython.core.display.Image object>"
      ]
     },
     "execution_count": 26,
     "metadata": {},
     "output_type": "execute_result"
    }
   ],
   "source": [
    "dataset = ee.Image('JRC/GSW1_0/GlobalSurfaceWater')\n",
    "occurrence = dataset.select('occurrence').clip(s1_aoi)\n",
    "url = occurrence.getThumbUrl()\n",
    "Image(url=url)"
   ]
  },
  {
   "cell_type": "code",
   "execution_count": 27,
   "metadata": {},
   "outputs": [
    {
     "data": {
      "text/html": [
       "<img src=\"https://earthengine.googleapis.com/api/thumb?thumbid=adc0c924b5f0fd0f54bbed10dee02e90&token=d41f8ec0ef5ba0d85dee90e577a248c7\"/>"
      ],
      "text/plain": [
       "<IPython.core.display.Image object>"
      ]
     },
     "execution_count": 27,
     "metadata": {},
     "output_type": "execute_result"
    }
   ],
   "source": [
    "pop = ee.ImageCollection('WorldPop/POP').filter(ee.Filter.equals('year', 2015)).filter(ee.Filter.equals('UNadj', 'yes')).mosaic().clip(s1_aoi)\n",
    "url = pop.getThumbUrl()\n",
    "Image(url=url)"
   ]
  },
  {
   "cell_type": "code",
   "execution_count": null,
   "metadata": {},
   "outputs": [],
   "source": [
    "'''\n",
    "// RAINFALL\n",
    "var from = ee.Date('2018-11-18');\n",
    "var to = ee.Date('2018-11-28');\n",
    "\n",
    "//var from = ee.Date('2018-11-18');\n",
    "//var to = ee.Date('2018-11-27');\n",
    "//var now = Date.now();\n",
    "\n",
    "var dataset = ee.Image('JRC/GSW1_0/GlobalSurfaceWater'); //band: 'occurence'\n",
    "\n",
    "var s1_aoi = ee.Geometry.Point(45.7521 , 32.6024).buffer(150000); // Wasit Governate\n",
    "//var s1_aoi = ee.Geometry.Point(43.2358582 , 35.4795323).buffer(150000); // Beledweyne\n",
    "//var s1_aoi = geometry.buffer(150000)\n",
    "\n",
    "Map.centerObject(s1_aoi,8);\n",
    "\n",
    "var collections =  ee.ImageCollection('COPERNICUS/S1_GRD').filterBounds(s1_aoi)\n",
    ".filter(ee.Filter.listContains('transmitterReceiverPolarisation', 'VV'))\n",
    ".select('VV');\n",
    "\n",
    "var collection = collections.filter(ee.Filter.eq('orbitProperties_pass', 'DESCENDING'));\n",
    "\n",
    "var pre = collection.filterDate('2018-11-10', '2018-11-19').mosaic().clip(s1_aoi); //add s to mosaic\n",
    "var post = collection.filterDate('2018-11-22', '2018-11-28').mosaic().clip(s1_aoi); // add s to mosaic\n",
    "print(post)\n",
    "\n",
    "var pre_c = pre.clip(s1_aoi);\n",
    "var post_c = post.clip(s1_aoi);\n",
    "\n",
    "var SMOOTHING_RADIUS = 1000;//Spatial Filter (test @ 1km)\n",
    "var DIFF_UPPER_THRESHOLD = -1.5;\n",
    "\n",
    "var diff_smoothed = post_c.focal_median(SMOOTHING_RADIUS, 'circle', 'meters')\n",
    "    .subtract(pre_c.focal_median(SMOOTHING_RADIUS, 'circle', 'meters'));\n",
    "\n",
    "var srtm = ee.Image('USGS/SRTMGL1_003').clip(s1_aoi);\n",
    "var slope = ee.Terrain.slope(srtm);\n",
    "//Map.addLayer(srtm, {min:0, max: 1000, palette:['black', 'white']})\n",
    "var slope_f = slope.lte(8); //% slope\n",
    "//var aspect = ee.Terrain.aspect(srtm);\n",
    "//var hillshade = aspect.divide(360).multiply(Math.PI).sin();\n",
    "var diff_thresholded = diff_smoothed.lt(DIFF_UPPER_THRESHOLD);\n",
    "//var inundated = diff_thresholded.multiply(slope_f);\n",
    "//Map.addLayer(pre_c, {min:-30,max:0}, 'Before flood');\n",
    "//Map.addLayer(post_c, {min:-30,max:0}, 'After flood');\n",
    "//Map.addLayer(post_c.subtract(pre_c), {min:-10,max:10}, 'After - before', 0); \n",
    "\n",
    "//####################################################\n",
    "var dataset = ee.Image('JRC/GSW1_0/GlobalSurfaceWater'); //band: 'occurence'\n",
    "var occurrence = dataset.select('occurrence').clip(s1_aoi);\n",
    "//occurrence / %\t0\t100 / The frequency with which water was present.\n",
    "//change_abs /%\t-100\t100\t/ Absolute change in occurrence between two epochs: 1984-1999 vs 2000-2015.\n",
    "//change_norm / %\t-100\t100\t/Normalized change in occurrence. (epoch1-epoch2)/(epoch1+epoch2) * 100\n",
    "// seasonality / 0\t12 / Number of months water is present.\n",
    "// recurrence / %\t0\t100/ The frequency with which water returns from year to year.\n",
    "\n",
    "var monthlyRecurrence = dataset.select('monthly_recurrence');\n",
    "\n",
    "var occurrenceVis = {\n",
    "  min: 0.0,\n",
    "  max: 100.0,\n",
    "  palette: ['ffffff', 'ffbbbb', '0000ff'],\n",
    "};\n",
    "\n",
    "var VIS_WATER_MASK = {\n",
    "  palette: ['white', 'black']\n",
    "};\n",
    "\n",
    "// Create Water Mask\n",
    "var water_mask = occurrence.lte(20).unmask(20).clip(s1_aoi);\n",
    "var s2water_mask = occurrence.gte(20).unmask(20).clip(s1_aoi);\n",
    "\n",
    "\n",
    "// Population/Settlements\n",
    "var pop = ee.ImageCollection('WorldPop/POP')\n",
    "  .filter(ee.Filter.equals('year', 2015))\n",
    "  .filter(ee.Filter.equals('UNadj', 'yes'))\n",
    "  .mosaic().clip(s1_aoi);\n",
    "\n",
    "//print(pop)\n",
    "\n",
    "// GHS\n",
    "var ghs_bu = ee.Image(\"JRC/GHSL/P2016/BUILT_LDSMT_GLOBE_V1\").clip(s1_aoi); //built-up\n",
    "//var ghs_pop = ee.ImageCollection(\"JRC/GHSL/P2016/POP_GPW_GLOBE_V1\").clip(AOI); //pop grid\n",
    "//var ghs_sett = ee.ImageCollection(\"JRC/GHSL/P2016/SMOD_POP_GLOBE_V1\").clip(AOI); //settlements\n",
    "\n",
    "// GPM\n",
    "var gpm_band = 'precipitationCal';\n",
    "var gpm = ee.ImageCollection('NASA/GPM_L3/IMERG_V05')\n",
    "          .filterDate(from, to)\n",
    "          .select(gpm_band); //Add to.Bands so we can query\n",
    "          \n",
    "/*\n",
    "print(ui.Chart.image.series(gpm,s1_aoi, ee.Reducer.mean())\n",
    "    .setChartType('BarChart')\n",
    "    .setOptions({\n",
    "      title: 'Daily Precipitaion (in mm) based on: ' + gpm_band,\n",
    "      hAxis: {title: 'GPM Observation Dates'},\n",
    "      vAxis: {title: 'Observed Rainfall (mm)'}}));\n",
    "*/    \n",
    "\n",
    "var dataset = ee.Image('CGIAR/SRTM90_V4');\n",
    "var elevation = dataset.select('elevation');\n",
    "var lowland = elevation.lte(30).clip(s1_aoi)\n",
    "var slope = ee.Terrain.slope(elevation);\n",
    "\n",
    "var water_masked = diff_thresholded.updateMask(water_mask)\n",
    "var slope_masked = water_masked.updateMask(slope_f)\n",
    "\n",
    "\n",
    "// Map the function over one year of data and take the median.\n",
    "// Load Sentinel-2 TOA reflectance data.\n",
    "var s2collection = ee.ImageCollection('COPERNICUS/S2')\n",
    "    .filterDate(from, to);\n",
    "    // Pre-filter to get less cloudy granules.\n",
    "    //.filter(ee.Filter.lt('CLOUDY_PIXEL_PERCENTAGE', 90));\n",
    "\n",
    "var s2bands = ['B8', 'B4', 'B3', 'QA60']\n",
    "\n",
    "var select = s2collection.select(s2bands).mosaic().clip(s1_aoi);\n",
    "var s2_masked = select.updateMask(s2water_mask)\n",
    "\n",
    "function maskL8sr(image) {\n",
    "  // Bits 3 and 5 are cloud shadow and cloud, respectively.\n",
    "  var cloudShadowBitMask = (1 << 3);\n",
    "  var cloudsBitMask = (1 << 5);\n",
    "  // Get the pixel QA band.\n",
    "  var qa = image.select('pixel_qa');\n",
    "  // Both flags should be set to zero, indicating clear conditions.\n",
    "  var mask = qa.bitwiseAnd(cloudShadowBitMask).eq(0)\n",
    "                 .and(qa.bitwiseAnd(cloudsBitMask).eq(0));\n",
    "  return image.updateMask(mask);\n",
    "}\n",
    "\n",
    "var dataset = ee.ImageCollection('LANDSAT/LC08/C01/T1_SR')\n",
    "                  .filterDate(from, to)\n",
    "                  .map(maskL8sr);\n",
    "\n",
    "var l8bands = ['B4', 'B3', 'B2']\n",
    "\n",
    "var l8 = dataset.select(l8bands).mosaic().clip(s1_aoi)\n",
    "\n",
    "var visParams = {\n",
    "  bands: l8bands,\n",
    "  min: 0,\n",
    "  max: 3000,\n",
    "  gamma: 1.4,\n",
    "};\n",
    "\n",
    "// Display the results.\n",
    "//Map.addLayer(pre_c,{min:-30,max:0},'pre')\n",
    "//Map.addLayer(post_c,{min:-30,max:0},'post')\n",
    "//Map.addLayer(s2_masked, {max: 4000}, 'Sentinel 2')\n",
    "//Map.addLayer(l8, visParams, 'Landsat 8 SR');\n",
    "//Map.addLayer(slope_masked);\n",
    "//Map.addLayer(water_masked, {min:0,max:1, palette:['white','blue']}, 'possible inundated areas water masked')\n",
    "Map.addLayer(slope_masked, {min:0,max:1, palette:['white','blue']}, 'possible inundated areas slope masked')\n",
    "var ndsi = (post_c.subtract(pre_c)).divide(post_c.add(pre_c))\n",
    "var f = ndsi.gte(0.15) //fixed value based on normalized sigma index\n",
    "var NDSI_SMOOTH_RADIUS = 50 //meters\n",
    "var filter = f.focal_median(NDSI_SMOOTH_RADIUS, 'circle', 'meters')\n",
    "Map.addLayer(f, {palette:['white','blue']},'Raw NDSI')\n",
    "Map.addLayer(ndsi, {min:-0.5, max:0.5, palette:['black', 'white', 'blue']}, 'NDSI Image')\n",
    "Map.addLayer(filter, {palette:['white','blue']},'Filtered NDSI')\n",
    "\n",
    "//Map.addLayer(occurrence, occurrenceVis, 'Occurrence');\n",
    "//var popVis = pop.where(pop.gt(0), pop.log())\n",
    "//  .visualize({palette: ['black','white']});\n",
    "//Map.addLayer(popVis, {}, 'World Population (WorldPop');\n",
    "Map.addLayer(ghs_bu,{}, 'Global Human Settlements (JRC)');\n",
    "//Map.addLayer({\n",
    "//  eeObject: water_mask,\n",
    "//  visParams: VIS_WATER_MASK,\n",
    "//  name: '20% occurrence water mask'\n",
    "//});\n",
    "//Map.addLayer(elevation.updateMask(lowland), {min: 0, max: 30, palette:['red','orange','yellow']}, 'floodplain');\n",
    "\n",
    "// Bits 10 and 11 are clouds and cirrus, respectively.\n",
    "var cloudBitMask = ee.Number(2).pow(10).int();\n",
    "var cirrusBitMask = ee.Number(2).pow(11).int();\n",
    "\n",
    "var qa = select.select('QA60');\n",
    "\n",
    "//Map.addLayer(qa.bitwiseAnd(cloudBitMask).neq(0), {}, 's2 clouds');\n",
    "//Map.addLayer(qa.bitwiseAnd(cirrusBitMask).neq(0), {}, 's2 cirrus');\n",
    "\n",
    "function maskS2clouds(image) {\n",
    "  var qa = image.select('QA60');\n",
    "  // Both flags should be set to zero, indicating clear conditions.\n",
    "  var mask = qa.bitwiseAnd(cloudBitMask).eq(0).and(\n",
    "             qa.bitwiseAnd(cirrusBitMask).eq(0));\n",
    "  return image.updateMask(mask);\n",
    "}\n",
    "\n",
    "var cloudMasked = s2collection.filterBounds(s1_aoi).map(maskS2clouds);\n",
    "\n",
    "var median = cloudMasked.median().clip(s1_aoi);\n",
    "//print(median)\n",
    "//Map.addLayer(median, {bands: ['B4', 'B3', 'B2'], max: 2000}, 'median');\n",
    "''''''"
   ]
  }
 ],
 "metadata": {
  "kernelspec": {
   "display_name": "Python 2",
   "language": "python",
   "name": "python2"
  },
  "language_info": {
   "codemirror_mode": {
    "name": "ipython",
    "version": 2
   },
   "file_extension": ".py",
   "mimetype": "text/x-python",
   "name": "python",
   "nbconvert_exporter": "python",
   "pygments_lexer": "ipython2",
   "version": "2.7.12"
  }
 },
 "nbformat": 4,
 "nbformat_minor": 2
}
